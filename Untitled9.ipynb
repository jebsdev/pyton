{
  "nbformat": 4,
  "nbformat_minor": 0,
  "metadata": {
    "colab": {
      "provenance": [],
      "authorship_tag": "ABX9TyOs0WJSJREBXXwcbsvUR2+e",
      "include_colab_link": true
    },
    "kernelspec": {
      "name": "python3",
      "display_name": "Python 3"
    },
    "language_info": {
      "name": "python"
    }
  },
  "cells": [
    {
      "cell_type": "markdown",
      "metadata": {
        "id": "view-in-github",
        "colab_type": "text"
      },
      "source": [
        "<a href=\"https://colab.research.google.com/github/jebsdev/pyton/blob/main/Untitled9.ipynb\" target=\"_parent\"><img src=\"https://colab.research.google.com/assets/colab-badge.svg\" alt=\"Open In Colab\"/></a>"
      ]
    },
    {
      "cell_type": "code",
      "execution_count": null,
      "metadata": {
        "colab": {
          "base_uri": "https://localhost:8080/"
        },
        "id": "kHbxcuhQa0r6",
        "outputId": "8233151b-fe7a-4b15-ba08-51abe21ed329"
      },
      "outputs": [
        {
          "output_type": "stream",
          "name": "stdout",
          "text": [
            "digite um numero2\n",
            "2.0 <5\n"
          ]
        }
      ],
      "source": [
        "x = float(input(\"digite um numero\"))\n",
        "if x < 5:\n",
        "  print(x,\"<5\")"
      ]
    },
    {
      "cell_type": "code",
      "source": [
        "x = float(input(\"digite um numero\"))\n",
        "if x < 5:\n",
        "  print(x,\"<5\")\n",
        "else:\n",
        "    print(\"5<=\",x)"
      ],
      "metadata": {
        "colab": {
          "base_uri": "https://localhost:8080/"
        },
        "id": "VD0hUhC4b8zJ",
        "outputId": "43ad891e-f97a-4443-d920-b809dd66102c"
      },
      "execution_count": null,
      "outputs": [
        {
          "output_type": "stream",
          "name": "stdout",
          "text": [
            "digite um numero8\n",
            "5<= 8.0\n"
          ]
        }
      ]
    },
    {
      "cell_type": "code",
      "source": [
        "print(\"ola,mundo\")"
      ],
      "metadata": {
        "colab": {
          "base_uri": "https://localhost:8080/"
        },
        "id": "F-kihYBfbSox",
        "outputId": "7ca168ff-58fb-4099-adf3-789ad3004061"
      },
      "execution_count": null,
      "outputs": [
        {
          "output_type": "stream",
          "name": "stdout",
          "text": [
            "ola,mundo\n"
          ]
        }
      ]
    },
    {
      "cell_type": "code",
      "source": [
        "nome = input(\"Qual é o seu nome?\")\n",
        "print(nome,\",me fale sobre voçê\")"
      ],
      "metadata": {
        "colab": {
          "base_uri": "https://localhost:8080/"
        },
        "id": "Ef4TZw-8bWUd",
        "outputId": "4bc7aeb6-dbe9-4cac-ec95-026d0f1528e7"
      },
      "execution_count": null,
      "outputs": [
        {
          "output_type": "stream",
          "name": "stdout",
          "text": [
            "Qual é o seu nome?jebson\n",
            "jebson ,me fale sobre voçê\n"
          ]
        }
      ]
    },
    {
      "cell_type": "code",
      "source": [
        "x = float(input(\"digite um numero:\"))\n",
        "if x == 0:\n",
        "  print(\"0=\",x,\"<1\")\n",
        "elif x <2:\n",
        "  print(\"1=\",x,\"<2\")\n",
        "elif x <3:\n",
        "  print(\"2=\",x,\"<3\")\n",
        "else:\n",
        "  print(\"3<=\",x)"
      ],
      "metadata": {
        "colab": {
          "base_uri": "https://localhost:8080/"
        },
        "id": "HI-LwuJichuy",
        "outputId": "ebc49f9f-9c00-408f-90ae-ef53181ca3ca"
      },
      "execution_count": null,
      "outputs": [
        {
          "output_type": "stream",
          "name": "stdout",
          "text": [
            "digite um numero:4\n",
            "3<= 4.0\n"
          ]
        }
      ]
    },
    {
      "cell_type": "code",
      "source": [
        "print(\"selecione a operação desejada\")\n",
        "print(\"1.Adição\")\n",
        "print(\"2.Subtração\")\n",
        "print(\"3.Multiplicação\")\n",
        "print(\"4.divisão\")\n",
        "\n",
        "opcao = input(\"Digite o número de operação desejada (1/2/3/4):\")\n",
        "\n",
        "n1 = float(input(\"digite o numero:\"))\n",
        "n2 = float(input(\"digite outro numero:\"))\n",
        "if opcao == \"1\":\n",
        " resultado = n1 + n2\n",
        " print(\"Resultado\",resultado)\n",
        "elif opcao == \"2\":\n",
        " resultado = n1 - n2\n",
        " print(\"Resultado\",resultado)\n",
        "elif opcao == \"3\":\n",
        "  resultado = n1 * n2\n",
        "  print(\"Resultado\",resultado)\n",
        "elif opcao == \"4\":\n",
        "  if n2 != 0:\n",
        "   resultado = n1/n2\n",
        "   print(\"Resultado\",resultado)\n",
        "  else:\n",
        "    print(\"Erro: Divisão por zero!\")\n",
        "else:\n",
        "  print(\"Opção inválida. Por favor, escolha uma opção válida.\")"
      ],
      "metadata": {
        "colab": {
          "base_uri": "https://localhost:8080/"
        },
        "id": "lliluivXfB1w",
        "outputId": "1d5371f1-5ad8-4791-ff59-e862816264e7"
      },
      "execution_count": null,
      "outputs": [
        {
          "metadata": {
            "tags": null
          },
          "name": "stdout",
          "output_type": "stream",
          "text": [
            "selecione a operação desejada\n",
            "1.Adição\n",
            "2.Subtração\n",
            "3.Multiplicação\n",
            "4.divisão\n"
          ]
        }
      ]
    }
  ]
}